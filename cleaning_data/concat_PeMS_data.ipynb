{
 "cells": [
  {
   "cell_type": "markdown",
   "metadata": {},
   "source": [
    "## Combining Interstate 280 Data for Entire Year"
   ]
  },
  {
   "cell_type": "markdown",
   "metadata": {},
   "source": [
    "### Import Necessary Libraries"
   ]
  },
  {
   "cell_type": "code",
   "execution_count": null,
   "metadata": {},
   "outputs": [],
   "source": [
    "import pandas as pd\n",
    "import os"
   ]
  },
  {
   "cell_type": "markdown",
   "metadata": {},
   "source": [
    "### Combine the PeMS traffic station for 365 individual days into one file"
   ]
  },
  {
   "cell_type": "code",
   "execution_count": null,
   "metadata": {},
   "outputs": [],
   "source": [
    "DATA_FOLDER_PATH = '/path/to/your/data/folder'  \n",
    "OUTPUT_CSV_PATH = '/path/to/your/output/folder/testing_one.csv'  \n",
    "COLUMNS_TO_USE = [0, 1, 3, 4, 5, 7, 9, 11]\n",
    "COLUMN_NAMES = ['Timestamp', 'Station', 'Freeway Number', 'Direction', 'Lane Type', 'Samples', 'Total Flow', 'Avg Speed']\n",
    "\n",
    "collected_data_frames = []\n",
    "for filename in os.listdir(DATA_FOLDER_PATH):\n",
    "\n",
    "    if filename.endswith('.txt.gz'):\n",
    "        file_path = os.path.join(DATA_FOLDER_PATH, filename)\n",
    "        df = pd.read_csv(file_path, usecols=COLUMNS_TO_USE, compression='gzip', header=None)\n",
    "        collected_data_frames.append(df)\n",
    "\n",
    "combined_df = pd.concat(collected_data_frames, ignore_index=True)\n",
    "combined_df.columns = COLUMN_NAMES\n",
    "freeway_280_data = combined_df[combined_df['Freeway Number'] == 280].reset_index(drop=True)\n",
    "\n",
    "freeway_280_data.to_csv(OUTPUT_CSV_PATH, index=False)"
   ]
  }
 ],
 "metadata": {
  "kernelspec": {
   "display_name": "VCgaming",
   "language": "python",
   "name": "python3"
  },
  "language_info": {
   "codemirror_mode": {
    "name": "ipython",
    "version": 3
   },
   "file_extension": ".py",
   "mimetype": "text/x-python",
   "name": "python",
   "nbconvert_exporter": "python",
   "pygments_lexer": "ipython3",
   "version": "3.10.11"
  },
  "orig_nbformat": 4
 },
 "nbformat": 4,
 "nbformat_minor": 2
}
