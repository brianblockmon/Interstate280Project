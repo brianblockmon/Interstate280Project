{
  "cells": [
    {
      "cell_type": "markdown",
      "metadata": {},
      "source": [
        "## Combining 2023 Sensor and Weather Data"
      ]
    },
    {
      "cell_type": "markdown",
      "metadata": {},
      "source": [
        "### Import the necessary libraries"
      ]
    },
    {
      "cell_type": "code",
      "execution_count": null,
      "metadata": {
        "id": "E_y__GYggoG3"
      },
      "outputs": [],
      "source": [
        "import pandas as pd"
      ]
    },
    {
      "cell_type": "markdown",
      "metadata": {},
      "source": [
        "### Read in sensor data (created in sensor_data_concat.ipynb file)"
      ]
    },
    {
      "cell_type": "code",
      "execution_count": null,
      "metadata": {
        "colab": {
          "base_uri": "https://localhost:8080/"
        },
        "id": "xAy8amU-UWNQ",
        "outputId": "586696c2-ff85-4492-e850-615c3b098d21"
      },
      "outputs": [],
      "source": [
        "sensor_data = pd.read_csv('/content/drive/MyDrive/PeMS Data/sensor_data.csv')\n",
        "print(f'Length of Sensor Data df: {len(sensor_data)}')"
      ]
    },
    {
      "cell_type": "markdown",
      "metadata": {},
      "source": [
        "### Read in sensor data (downloaded directly from PeMS website) "
      ]
    },
    {
      "cell_type": "code",
      "execution_count": null,
      "metadata": {
        "colab": {
          "base_uri": "https://localhost:8080/",
          "height": 206
        },
        "id": "3SaGrEe7Cpfp",
        "outputId": "35540ccc-3acd-4456-9fb4-77575fe3aa88"
      },
      "outputs": [],
      "source": [
        "station_path = '/content/drive/MyDrive/PeMS Data/stations.txt'\n",
        "cols_index = [0, 1, 4, 5, 7, 8, 9, 13]\n",
        "cols_dtypes = [int, int, int, float, float, str]\n",
        "station_info = pd.read_csv(station_path, usecols=cols_index , delimiter='\\t')\n",
        "station_info = station_info[station_info['Fwy'] == 280].reset_index(drop=True)\n",
        "station_info.drop('Fwy', axis=1, inplace=True)\n",
        "station_info.head()"
      ]
    },
    {
      "cell_type": "markdown",
      "metadata": {},
      "source": [
        "### Read in 2023 weather data (created in weather_data_concat.ipynb file) "
      ]
    },
    {
      "cell_type": "code",
      "execution_count": null,
      "metadata": {
        "colab": {
          "base_uri": "https://localhost:8080/",
          "height": 206
        },
        "id": "oAJtBQ4F00wd",
        "outputId": "cd159cdf-853e-4389-adfe-5b095a53bc4d"
      },
      "outputs": [],
      "source": [
        "weather_info = pd.read_csv('/content/drive/MyDrive/PeMS Data/weather_data.csv')\n",
        "weather_info['dt'] = pd.to_datetime(weather_info['dt'], utc=True)\n",
        "weather_info['Year'] = weather_info['dt'].dt.year\n",
        "weather_info['Month'] = weather_info['dt'].dt.month\n",
        "weather_info['Day'] = weather_info['dt'].dt.day\n",
        "weather_info['Hour'] = weather_info['dt'].dt.hour\n",
        "weather_info.drop('weather', axis=1, inplace=True, errors='ignore')\n",
        "weather_info.head()"
      ]
    },
    {
      "cell_type": "markdown",
      "metadata": {},
      "source": [
        "### Joining Sensor Data, Station Data, and Weather Data"
      ]
    },
    {
      "cell_type": "code",
      "execution_count": null,
      "metadata": {
        "colab": {
          "base_uri": "https://localhost:8080/",
          "height": 348
        },
        "id": "sqn1f6YmtZ0N",
        "outputId": "1d9d3591-3896-47e2-d486-f4f6e276976c"
      },
      "outputs": [],
      "source": [
        "merged_df = pd.merge(sensor_data, station_info, left_on='Station', right_on='ID', how='left')\n",
        "merged_df = merged_df.dropna(subset=['Avg Speed'])\n",
        "merged_df['Timestamp'] = pd.to_datetime(merged_df['Timestamp'])\n",
        "merged_df['Year'] = merged_df['Timestamp'].dt.year\n",
        "merged_df['Month'] = merged_df['Timestamp'].dt.month\n",
        "merged_df['Day'] = merged_df['Timestamp'].dt.day\n",
        "merged_df['DayOfWeek'] = merged_df['Timestamp'].dt.day_name()\n",
        "merged_df['Hour'] = merged_df['Timestamp'].dt.hour\n",
        "merged_df['Minutes'] = merged_df['Timestamp'].dt.minute\n",
        "merged_df['minutesOfDay'] = merged_df['Timestamp'].dt.hour * 60 + merged_df['Timestamp'].dt.minute\n",
        "merged_df = pd.merge(merged_df, weather_info, on=['Year', 'Month', 'Day', 'Hour'], how='left')\n",
        "\n",
        "merged_df = pd.get_dummies(merged_df, columns=['DayOfWeek', 'City', 'County', 'weather.desc'])\n",
        "merged_df.head()"
      ]
    },
    {
      "cell_type": "markdown",
      "metadata": {},
      "source": [
        "### Splitting into Northbound and Southbound"
      ]
    },
    {
      "cell_type": "code",
      "execution_count": null,
      "metadata": {
        "colab": {
          "base_uri": "https://localhost:8080/"
        },
        "id": "_FfErGukVzJw",
        "outputId": "4b8f7916-1b54-4cf7-b146-e9b0e84c8dec"
      },
      "outputs": [],
      "source": [
        "df_north = merged_df[merged_df['Direction'] == 'N']\n",
        "df_south = merged_df[merged_df['Direction'] == 'S']\n",
        "\n",
        "formatted_north_count = \"{:,}\".format(len(df_north))\n",
        "formatted_south_count = \"{:,}\".format(len(df_south))\n",
        "\n",
        "print(\"North: \" + formatted_north_count)\n",
        "print(\"South: \" + formatted_south_count)"
      ]
    }
  ],
  "metadata": {
    "accelerator": "GPU",
    "colab": {
      "gpuType": "V100",
      "machine_shape": "hm",
      "provenance": []
    },
    "kernelspec": {
      "display_name": "Python 3",
      "name": "python3"
    },
    "language_info": {
      "name": "python"
    }
  },
  "nbformat": 4,
  "nbformat_minor": 0
}
