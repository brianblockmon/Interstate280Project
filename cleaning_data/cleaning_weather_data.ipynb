{
 "cells": [
  {
   "cell_type": "markdown",
   "metadata": {},
   "source": [
    "## Getting 2023 Weather Data from OpenWeatherMap API"
   ]
  },
  {
   "cell_type": "markdown",
   "metadata": {},
   "source": [
    "### Import Necessary Libraries"
   ]
  },
  {
   "cell_type": "code",
   "execution_count": null,
   "metadata": {},
   "outputs": [],
   "source": [
    "import pandas as pd\n",
    "import requests\n",
    "import pytz\n",
    "from datetime import datetime"
   ]
  },
  {
   "cell_type": "markdown",
   "metadata": {},
   "source": [
    "### Define the Constants"
   ]
  },
  {
   "cell_type": "code",
   "execution_count": null,
   "metadata": {},
   "outputs": [],
   "source": [
    "PST_TIME_ZONE = pytz.timezone('America/Los_Angeles')            # Pacific Standard Time\n",
    "API_KEY = \"xxxxxxxxxxxxxxxxxxxxxxxxxxxxxxxx\"                    \n",
    "LATITUDE, LONGITUDE = 37.585404, -122.407818                    # San Francisco latitude, longitude\n",
    "START_TIMESTAMP, END_TIMESTAMP = 1674374741, 1704092400         # Start and end timestamps (for 2023)\n",
    "REQUEST_INTERVAL = 7 * 24 * 60 * 60                             # OpenWeatherMap API allows 7 days per request\n",
    "OUTPUT_CSV_PATH = '/path/to/your/output/folder/testing_one.csv'  "
   ]
  },
  {
   "cell_type": "markdown",
   "metadata": {},
   "source": [
    "### Requesting from API (seven day limit per request)"
   ]
  },
  {
   "cell_type": "code",
   "execution_count": null,
   "metadata": {},
   "outputs": [],
   "source": [
    "final_weather_data = pd.DataFrame()\n",
    "\n",
    "# Loop through each time interval\n",
    "current_start_timestamp = START_TIMESTAMP\n",
    "while current_start_timestamp < END_TIMESTAMP:\n",
    "\n",
    "    current_end_timestamp = min(current_start_timestamp + REQUEST_INTERVAL, END_TIMESTAMP)\n",
    "    request_url = f\"https://history.openweathermap.org/data/2.5/history/city?lat={LATITUDE}&lon={LONGITUDE}&type=hour&start={current_start_timestamp}&end={current_end_timestamp}&appid={API_KEY}\"\n",
    "    response = requests.get(request_url)\n",
    "\n",
    "\n",
    "    if response.status_code == 200:\n",
    "        # Parse the JSON response\n",
    "        json_data = response.json()\n",
    "        weather_data_list = json_data.get('list', [])\n",
    "\n",
    "        # Convert the list of weather data into a Pandas DataFrame\n",
    "        current_weather_data = pd.json_normalize(weather_data_list)\n",
    "        current_weather_data['dt'] = pd.to_datetime(current_weather_data['dt'], unit='s', utc=True)\n",
    "        current_weather_data['dt'] = current_weather_data['dt'].dt.tz_convert(PST_TIME_ZONE)  # Convert time to PST\n",
    "        current_weather_data.set_index('dt', inplace=True)\n",
    "        current_weather_data['weather_description'] = current_weather_data['weather'].apply(lambda x: x[0]['description'] if x else None)\n",
    "\n",
    "        # Append the dataframe with each interval's data to the final dataframe\n",
    "        final_weather_data = pd.concat([final_weather_data, current_weather_data])\n",
    "        current_start_timestamp = current_end_timestamp\n",
    "        \n",
    "    else:\n",
    "        error_message = f\"Error fetching data: Status Code {response.status_code}, Response: {response.text}\"      \n",
    "        print(error_message)        \n",
    "        break\n",
    "\n",
    "# Save the final dataframe to a CSV file\n",
    "final_weather_data.to_csv(OUTPUT_CSV_PATH)"
   ]
  }
 ],
 "metadata": {
  "language_info": {
   "name": "python"
  },
  "orig_nbformat": 4
 },
 "nbformat": 4,
 "nbformat_minor": 2
}
